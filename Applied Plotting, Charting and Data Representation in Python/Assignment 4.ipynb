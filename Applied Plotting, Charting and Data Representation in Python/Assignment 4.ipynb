{
 "cells": [
  {
   "cell_type": "markdown",
   "metadata": {},
   "source": [
    "# Assignment 4\n",
    "\n",
    "Before working on this assignment please read these instructions fully. In the submission area, you will notice that you can click the link to **Preview the Grading** for each step of the assignment. This is the criteria that will be used for peer grading. Please familiarize yourself with the criteria before beginning the assignment.\n",
    "\n",
    "This assignment requires that you to find **at least** two datasets on the web which are related, and that you visualize these datasets to answer a question with the broad topic of **economic activity or measures** (see below) for the region of **Singapore, None, Singapore**, or **Singapore** more broadly.\n",
    "\n",
    "You can merge these datasets with data from different regions if you like! For instance, you might want to compare **Singapore, None, Singapore** to Ann Arbor, USA. In that case at least one source file must be about **Singapore, None, Singapore**.\n",
    "\n",
    "You are welcome to choose datasets at your discretion, but keep in mind **they will be shared with your peers**, so choose appropriate datasets. Sensitive, confidential, illicit, and proprietary materials are not good choices for datasets for this assignment. You are welcome to upload datasets of your own as well, and link to them using a third party repository such as github, bitbucket, pastebin, etc. Please be aware of the Coursera terms of service with respect to intellectual property.\n",
    "\n",
    "Also, you are welcome to preserve data in its original language, but for the purposes of grading you should provide english translations. You are welcome to provide multiple visuals in different languages if you would like!\n",
    "\n",
    "As this assignment is for the whole course, you must incorporate principles discussed in the first week, such as having as high data-ink ratio (Tufte) and aligning with Cairo’s principles of truth, beauty, function, and insight.\n",
    "\n",
    "Here are the assignment instructions:\n",
    "\n",
    " * State the region and the domain category that your data sets are about (e.g., **Singapore, None, Singapore** and **economic activity or measures**).\n",
    " * You must state a question about the domain category and region that you identified as being interesting.\n",
    " * You must provide at least two links to available datasets. These could be links to files such as CSV or Excel files, or links to websites which might have data in tabular form, such as Wikipedia pages.\n",
    " * You must upload an image which addresses the research question you stated. In addition to addressing the question, this visual should follow Cairo's principles of truthfulness, functionality, beauty, and insightfulness.\n",
    " * You must contribute a short (1-2 paragraph) written justification of how your visualization addresses your stated research question.\n",
    "\n",
    "What do we mean by **economic activity or measures**?  For this category you might look at the inputs or outputs to the given economy, or major changes in the economy compared to other regions.\n",
    "\n",
    "## Tips\n",
    "* Wikipedia is an excellent source of data, and I strongly encourage you to explore it for new data sources.\n",
    "* Many governments run open data initiatives at the city, region, and country levels, and these are wonderful resources for localized data sources.\n",
    "* Several international agencies, such as the [United Nations](http://data.un.org/), the [World Bank](http://data.worldbank.org/), the [Global Open Data Index](http://index.okfn.org/place/) are other great places to look for data.\n",
    "* This assignment requires you to convert and clean datafiles. Check out the discussion forums for tips on how to do this from various sources, and share your successes with your fellow students!\n",
    "\n",
    "## Example\n",
    "Looking for an example? Here's what our course assistant put together for the **Ann Arbor, MI, USA** area using **sports and athletics** as the topic. [Example Solution File](./readonly/Assignment4_example.pdf)"
   ]
  },
  {
   "cell_type": "code",
   "execution_count": 1,
   "metadata": {},
   "outputs": [],
   "source": [
    "%matplotlib inline\n",
    "import pandas as pd\n",
    "import numpy as np\n",
    "import matplotlib.pyplot as plt\n",
    "import seaborn as sns"
   ]
  },
  {
   "cell_type": "code",
   "execution_count": 2,
   "metadata": {},
   "outputs": [],
   "source": [
    "df_income = pd.read_csv(\"OutputFile.csv\", error_bad_lines=False, header=4)\n",
    "df_gdp = pd.read_excel(\"gdp.xls\", sheet_name = \"Per Capita GDP\", header=2)"
   ]
  },
  {
   "cell_type": "code",
   "execution_count": 3,
   "metadata": {},
   "outputs": [
    {
     "data": {
      "text/html": [
       "<div>\n",
       "<style scoped>\n",
       "    .dataframe tbody tr th:only-of-type {\n",
       "        vertical-align: middle;\n",
       "    }\n",
       "\n",
       "    .dataframe tbody tr th {\n",
       "        vertical-align: top;\n",
       "    }\n",
       "\n",
       "    .dataframe thead th {\n",
       "        text-align: right;\n",
       "    }\n",
       "</style>\n",
       "<table border=\"1\" class=\"dataframe\">\n",
       "  <thead>\n",
       "    <tr style=\"text-align: right;\">\n",
       "      <th></th>\n",
       "      <th>Variables</th>\n",
       "      <th>2000</th>\n",
       "      <th>2001</th>\n",
       "      <th>2002</th>\n",
       "      <th>2003</th>\n",
       "      <th>2004</th>\n",
       "      <th>2005</th>\n",
       "      <th>2006</th>\n",
       "      <th>2007</th>\n",
       "      <th>2008</th>\n",
       "      <th>...</th>\n",
       "      <th>2010</th>\n",
       "      <th>2011</th>\n",
       "      <th>2012</th>\n",
       "      <th>2013</th>\n",
       "      <th>2014</th>\n",
       "      <th>2015</th>\n",
       "      <th>2016</th>\n",
       "      <th>2017</th>\n",
       "      <th>2018</th>\n",
       "      <th>2019</th>\n",
       "    </tr>\n",
       "  </thead>\n",
       "  <tbody>\n",
       "    <tr>\n",
       "      <th>0</th>\n",
       "      <td>Median Monthly Household Income From Work Inc...</td>\n",
       "      <td>4,398</td>\n",
       "      <td>4,716</td>\n",
       "      <td>4,590</td>\n",
       "      <td>4,612</td>\n",
       "      <td>4,552</td>\n",
       "      <td>4,831</td>\n",
       "      <td>4,952</td>\n",
       "      <td>5,362</td>\n",
       "      <td>6,100</td>\n",
       "      <td>...</td>\n",
       "      <td>6,342</td>\n",
       "      <td>7,037</td>\n",
       "      <td>7,566</td>\n",
       "      <td>7,872</td>\n",
       "      <td>8,292</td>\n",
       "      <td>8,666</td>\n",
       "      <td>8,846</td>\n",
       "      <td>9,023</td>\n",
       "      <td>9,293</td>\n",
       "      <td>9,425</td>\n",
       "    </tr>\n",
       "    <tr>\n",
       "      <th>1</th>\n",
       "      <td>Real Change In Median Monthly Household Incom...</td>\n",
       "      <td>na</td>\n",
       "      <td>6.8</td>\n",
       "      <td>-2.4</td>\n",
       "      <td>-0.1</td>\n",
       "      <td>-2.8</td>\n",
       "      <td>5.5</td>\n",
       "      <td>1.4</td>\n",
       "      <td>6.1</td>\n",
       "      <td>6.8</td>\n",
       "      <td>...</td>\n",
       "      <td>2.8</td>\n",
       "      <td>5.6</td>\n",
       "      <td>2.7</td>\n",
       "      <td>1.6</td>\n",
       "      <td>4.1</td>\n",
       "      <td>4.9</td>\n",
       "      <td>2.6</td>\n",
       "      <td>1.5</td>\n",
       "      <td>2.6</td>\n",
       "      <td>1</td>\n",
       "    </tr>\n",
       "    <tr>\n",
       "      <th>2</th>\n",
       "      <td>Median Monthly Household Income From Work Per...</td>\n",
       "      <td>1,236</td>\n",
       "      <td>1,352</td>\n",
       "      <td>1,320</td>\n",
       "      <td>1,335</td>\n",
       "      <td>1,331</td>\n",
       "      <td>1,392</td>\n",
       "      <td>1,447</td>\n",
       "      <td>1,547</td>\n",
       "      <td>1,754</td>\n",
       "      <td>...</td>\n",
       "      <td>1,848</td>\n",
       "      <td>1,994</td>\n",
       "      <td>2,127</td>\n",
       "      <td>2,247</td>\n",
       "      <td>2,380</td>\n",
       "      <td>2,500</td>\n",
       "      <td>2,584</td>\n",
       "      <td>2,699</td>\n",
       "      <td>2,792</td>\n",
       "      <td>2,925</td>\n",
       "    </tr>\n",
       "    <tr>\n",
       "      <th>3</th>\n",
       "      <td>Real Change In Median Monthly Household Incom...</td>\n",
       "      <td>na</td>\n",
       "      <td>8.9</td>\n",
       "      <td>-2.1</td>\n",
       "      <td>0.6</td>\n",
       "      <td>-1.8</td>\n",
       "      <td>4</td>\n",
       "      <td>2.9</td>\n",
       "      <td>4.8</td>\n",
       "      <td>6.4</td>\n",
       "      <td>...</td>\n",
       "      <td>3.7</td>\n",
       "      <td>2.7</td>\n",
       "      <td>1.9</td>\n",
       "      <td>3.2</td>\n",
       "      <td>4.7</td>\n",
       "      <td>5.4</td>\n",
       "      <td>3.8</td>\n",
       "      <td>3.9</td>\n",
       "      <td>3</td>\n",
       "      <td>4.3</td>\n",
       "    </tr>\n",
       "    <tr>\n",
       "      <th>4</th>\n",
       "      <td>Monthly Household Income From Work Per Househ...</td>\n",
       "      <td>628</td>\n",
       "      <td>660</td>\n",
       "      <td>638</td>\n",
       "      <td>640</td>\n",
       "      <td>652</td>\n",
       "      <td>666</td>\n",
       "      <td>702</td>\n",
       "      <td>747</td>\n",
       "      <td>832</td>\n",
       "      <td>...</td>\n",
       "      <td>889</td>\n",
       "      <td>971</td>\n",
       "      <td>1,020</td>\n",
       "      <td>1,083</td>\n",
       "      <td>1,167</td>\n",
       "      <td>1,242</td>\n",
       "      <td>1,280</td>\n",
       "      <td>1,311</td>\n",
       "      <td>1,359</td>\n",
       "      <td>1,415</td>\n",
       "    </tr>\n",
       "  </tbody>\n",
       "</table>\n",
       "<p>5 rows × 21 columns</p>\n",
       "</div>"
      ],
      "text/plain": [
       "                                          Variables    2000   2001   2002  \\\n",
       "0   Median Monthly Household Income From Work Inc...  4,398  4,716  4,590   \n",
       "1   Real Change In Median Monthly Household Incom...    na     6.8   -2.4   \n",
       "2   Median Monthly Household Income From Work Per...  1,236  1,352  1,320   \n",
       "3   Real Change In Median Monthly Household Incom...    na     8.9   -2.1   \n",
       "4   Monthly Household Income From Work Per Househ...    628    660    638   \n",
       "\n",
       "    2003   2004   2005   2006   2007   2008  ...   2010   2011   2012   2013  \\\n",
       "0  4,612  4,552  4,831  4,952  5,362  6,100  ...  6,342  7,037  7,566  7,872   \n",
       "1   -0.1   -2.8    5.5    1.4    6.1    6.8  ...    2.8    5.6    2.7    1.6   \n",
       "2  1,335  1,331  1,392  1,447  1,547  1,754  ...  1,848  1,994  2,127  2,247   \n",
       "3    0.6   -1.8      4    2.9    4.8    6.4  ...    3.7    2.7    1.9    3.2   \n",
       "4    640    652    666    702    747    832  ...    889    971  1,020  1,083   \n",
       "\n",
       "    2014   2015   2016   2017   2018   2019  \n",
       "0  8,292  8,666  8,846  9,023  9,293  9,425  \n",
       "1    4.1    4.9    2.6    1.5    2.6      1  \n",
       "2  2,380  2,500  2,584  2,699  2,792  2,925  \n",
       "3    4.7    5.4    3.8    3.9      3    4.3  \n",
       "4  1,167  1,242  1,280  1,311  1,359  1,415  \n",
       "\n",
       "[5 rows x 21 columns]"
      ]
     },
     "execution_count": 3,
     "metadata": {},
     "output_type": "execute_result"
    }
   ],
   "source": [
    "df_income.head()"
   ]
  },
  {
   "cell_type": "code",
   "execution_count": 4,
   "metadata": {},
   "outputs": [
    {
     "data": {
      "text/html": [
       "<div>\n",
       "<style scoped>\n",
       "    .dataframe tbody tr th:only-of-type {\n",
       "        vertical-align: middle;\n",
       "    }\n",
       "\n",
       "    .dataframe tbody tr th {\n",
       "        vertical-align: top;\n",
       "    }\n",
       "\n",
       "    .dataframe thead th {\n",
       "        text-align: right;\n",
       "    }\n",
       "</style>\n",
       "<table border=\"1\" class=\"dataframe\">\n",
       "  <thead>\n",
       "    <tr style=\"text-align: right;\">\n",
       "      <th></th>\n",
       "      <th>Year</th>\n",
       "      <th>S$</th>\n",
       "      <th>US$</th>\n",
       "    </tr>\n",
       "  </thead>\n",
       "  <tbody>\n",
       "    <tr>\n",
       "      <th>0</th>\n",
       "      <td>1960</td>\n",
       "      <td>1310.0</td>\n",
       "      <td>428</td>\n",
       "    </tr>\n",
       "    <tr>\n",
       "      <th>1</th>\n",
       "      <td>1961</td>\n",
       "      <td>1374.0</td>\n",
       "      <td>449</td>\n",
       "    </tr>\n",
       "    <tr>\n",
       "      <th>2</th>\n",
       "      <td>1962</td>\n",
       "      <td>1445.0</td>\n",
       "      <td>472</td>\n",
       "    </tr>\n",
       "    <tr>\n",
       "      <th>3</th>\n",
       "      <td>1963</td>\n",
       "      <td>1564.0</td>\n",
       "      <td>511</td>\n",
       "    </tr>\n",
       "    <tr>\n",
       "      <th>4</th>\n",
       "      <td>1964</td>\n",
       "      <td>1486.0</td>\n",
       "      <td>485</td>\n",
       "    </tr>\n",
       "  </tbody>\n",
       "</table>\n",
       "</div>"
      ],
      "text/plain": [
       "   Year      S$  US$\n",
       "0  1960  1310.0  428\n",
       "1  1961  1374.0  449\n",
       "2  1962  1445.0  472\n",
       "3  1963  1564.0  511\n",
       "4  1964  1486.0  485"
      ]
     },
     "execution_count": 4,
     "metadata": {},
     "output_type": "execute_result"
    }
   ],
   "source": [
    "df_gdp.head()"
   ]
  },
  {
   "cell_type": "code",
   "execution_count": 5,
   "metadata": {},
   "outputs": [],
   "source": [
    "median_income = df_income.iloc[0, 1:-5]"
   ]
  },
  {
   "cell_type": "code",
   "execution_count": 6,
   "metadata": {},
   "outputs": [],
   "source": [
    "first_decile = df_income.iloc[7, 1:-5]"
   ]
  },
  {
   "cell_type": "code",
   "execution_count": 7,
   "metadata": {},
   "outputs": [],
   "source": [
    "fifth_decile = df_income.iloc[11, 1:-5]"
   ]
  },
  {
   "cell_type": "code",
   "execution_count": 8,
   "metadata": {},
   "outputs": [],
   "source": [
    "tenth_decile = df_income.iloc[16, 1:-5]"
   ]
  },
  {
   "cell_type": "code",
   "execution_count": 9,
   "metadata": {},
   "outputs": [],
   "source": [
    "df_gdp = df_gdp.iloc[-17:-2, :].drop(\"US$\", axis=1).set_index(\"Year\")"
   ]
  },
  {
   "cell_type": "code",
   "execution_count": 10,
   "metadata": {},
   "outputs": [
    {
     "data": {
      "text/plain": [
       "array(['4,398', '4,716', '4,590', '4,612', '4,552', '4,831', '4,952',\n",
       "       '5,362', '6,100', '6,006', '6,342', '7,037', '7,566', '7,872',\n",
       "       '8,292'], dtype=object)"
      ]
     },
     "execution_count": 10,
     "metadata": {},
     "output_type": "execute_result"
    }
   ],
   "source": [
    "median_income.values"
   ]
  },
  {
   "cell_type": "code",
   "execution_count": 11,
   "metadata": {},
   "outputs": [],
   "source": [
    "converted_income = []\n",
    "for value in median_income:\n",
    "    value = int(value.replace(',', ''))*10\n",
    "    converted_income.append(value)"
   ]
  },
  {
   "cell_type": "code",
   "execution_count": 12,
   "metadata": {},
   "outputs": [],
   "source": [
    "converted_fifth = []\n",
    "for value in fifth_decile:\n",
    "    value = int(value.replace(',', ''))*10\n",
    "    converted_fifth.append(value)"
   ]
  },
  {
   "cell_type": "code",
   "execution_count": 13,
   "metadata": {},
   "outputs": [],
   "source": [
    "converted_first = []\n",
    "for value in first_decile:\n",
    "    value = int(value.replace(',', ''))*10\n",
    "    converted_first.append(value)"
   ]
  },
  {
   "cell_type": "code",
   "execution_count": 14,
   "metadata": {},
   "outputs": [],
   "source": [
    "converted_tenth = []\n",
    "for value in tenth_decile:\n",
    "    value = int(value.replace(',', ''))*10\n",
    "    converted_tenth.append(value)"
   ]
  },
  {
   "cell_type": "code",
   "execution_count": 15,
   "metadata": {},
   "outputs": [],
   "source": [
    "df_gdp[\"income\"] = converted_income"
   ]
  },
  {
   "cell_type": "code",
   "execution_count": 16,
   "metadata": {},
   "outputs": [],
   "source": [
    "df_gdp[\"first decile\"] = converted_first"
   ]
  },
  {
   "cell_type": "code",
   "execution_count": 17,
   "metadata": {},
   "outputs": [],
   "source": [
    "df_gdp[\"fifth decile\"] = converted_fifth"
   ]
  },
  {
   "cell_type": "code",
   "execution_count": 18,
   "metadata": {},
   "outputs": [],
   "source": [
    "df_gdp[\"tenth decile\"] = converted_tenth"
   ]
  },
  {
   "cell_type": "code",
   "execution_count": 19,
   "metadata": {},
   "outputs": [
    {
     "data": {
      "text/html": [
       "<div>\n",
       "<style scoped>\n",
       "    .dataframe tbody tr th:only-of-type {\n",
       "        vertical-align: middle;\n",
       "    }\n",
       "\n",
       "    .dataframe tbody tr th {\n",
       "        vertical-align: top;\n",
       "    }\n",
       "\n",
       "    .dataframe thead th {\n",
       "        text-align: right;\n",
       "    }\n",
       "</style>\n",
       "<table border=\"1\" class=\"dataframe\">\n",
       "  <thead>\n",
       "    <tr style=\"text-align: right;\">\n",
       "      <th></th>\n",
       "      <th>S$</th>\n",
       "      <th>income</th>\n",
       "      <th>first decile</th>\n",
       "      <th>fifth decile</th>\n",
       "      <th>tenth decile</th>\n",
       "    </tr>\n",
       "    <tr>\n",
       "      <th>Year</th>\n",
       "      <th></th>\n",
       "      <th></th>\n",
       "      <th></th>\n",
       "      <th></th>\n",
       "      <th></th>\n",
       "    </tr>\n",
       "  </thead>\n",
       "  <tbody>\n",
       "    <tr>\n",
       "      <th>2000</th>\n",
       "      <td>41018.0</td>\n",
       "      <td>43980</td>\n",
       "      <td>3150</td>\n",
       "      <td>11190</td>\n",
       "      <td>58010</td>\n",
       "    </tr>\n",
       "    <tr>\n",
       "      <th>2001</th>\n",
       "      <td>38660.0</td>\n",
       "      <td>47160</td>\n",
       "      <td>3170</td>\n",
       "      <td>12160</td>\n",
       "      <td>65080</td>\n",
       "    </tr>\n",
       "    <tr>\n",
       "      <th>2002</th>\n",
       "      <td>39423.0</td>\n",
       "      <td>45900</td>\n",
       "      <td>3030</td>\n",
       "      <td>11910</td>\n",
       "      <td>63590</td>\n",
       "    </tr>\n",
       "    <tr>\n",
       "      <th>2003</th>\n",
       "      <td>41070.0</td>\n",
       "      <td>46120</td>\n",
       "      <td>3010</td>\n",
       "      <td>12020</td>\n",
       "      <td>64880</td>\n",
       "    </tr>\n",
       "    <tr>\n",
       "      <th>2004</th>\n",
       "      <td>46320.0</td>\n",
       "      <td>45520</td>\n",
       "      <td>3000</td>\n",
       "      <td>11980</td>\n",
       "      <td>66010</td>\n",
       "    </tr>\n",
       "  </tbody>\n",
       "</table>\n",
       "</div>"
      ],
      "text/plain": [
       "           S$  income  first decile  fifth decile  tenth decile\n",
       "Year                                                           \n",
       "2000  41018.0   43980          3150         11190         58010\n",
       "2001  38660.0   47160          3170         12160         65080\n",
       "2002  39423.0   45900          3030         11910         63590\n",
       "2003  41070.0   46120          3010         12020         64880\n",
       "2004  46320.0   45520          3000         11980         66010"
      ]
     },
     "execution_count": 19,
     "metadata": {},
     "output_type": "execute_result"
    }
   ],
   "source": [
    "df_gdp.head()"
   ]
  },
  {
   "cell_type": "code",
   "execution_count": 21,
   "metadata": {},
   "outputs": [
    {
     "data": {
      "text/plain": [
       "<matplotlib.legend.Legend at 0x193f5084d90>"
      ]
     },
     "execution_count": 21,
     "metadata": {},
     "output_type": "execute_result"
    },
    {
     "data": {
      "image/png": "[encoded data removed]",
      "text/plain": [
       "<Figure size 1296x720 with 1 Axes>"
      ]
     },
     "metadata": {
      "needs_background": "light"
     },
     "output_type": "display_data"
    }
   ],
   "source": [
    "plt.figure(figsize=(18,10))\n",
    "plt.title(\"Comparison of GDP Per Capita with Household Income (by a factor of 10) in Singapore from 2000 to 2014\")\n",
    "plt.xlabel(\"Year\")\n",
    "plt.ylabel(\"Singapore Dollars (SGD)\")\n",
    "plt.plot(df_gdp[\"S$\"], label = \"GDP Per Capita\", c=\"red\", linewidth = 3)\n",
    "plt.plot(df_gdp[\"income\"], label = \"Median Household Income\", c=\"blue\", linewidth = 3)\n",
    "plt.plot(df_gdp[\"first decile\"], label = \"Average Household Income of Bottom 10% Per Member\", c=\"grey\", linewidth = 3)\n",
    "plt.plot(df_gdp[\"fifth decile\"], label = \"Average Household Income of 50th Percentile Per Member\", c=\"green\", linewidth = 3)\n",
    "plt.plot(df_gdp[\"tenth decile\"], label = \"Average Household Income of Top 10% Per Member\", c=\"orange\", linewidth = 3)\n",
    "plt.legend()"
   ]
  },
  {
   "cell_type": "code",
   "execution_count": null,
   "metadata": {},
   "outputs": [],
   "source": []
  }
 ],
 "metadata": {
  "kernelspec": {
   "display_name": "Python 3",
   "language": "python",
   "name": "python3"
  },
  "language_info": {
   "codemirror_mode": {
    "name": "ipython",
    "version": 3
   },
   "file_extension": ".py",
   "mimetype": "text/x-python",
   "name": "python",
   "nbconvert_exporter": "python",
   "pygments_lexer": "ipython3",
   "version": "3.8.5"
  }
 },
 "nbformat": 4,
 "nbformat_minor": 4
}
